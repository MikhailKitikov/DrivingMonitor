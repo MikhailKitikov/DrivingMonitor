{
  "nbformat": 4,
  "nbformat_minor": 0,
  "metadata": {
    "anaconda-cloud": {},
    "kernelspec": {
      "display_name": "Python 3",
      "language": "python",
      "name": "python3"
    },
    "language_info": {
      "codemirror_mode": {
        "name": "ipython",
        "version": 3
      },
      "file_extension": ".py",
      "mimetype": "text/x-python",
      "name": "python",
      "nbconvert_exporter": "python",
      "pygments_lexer": "ipython3",
      "version": "3.5.2"
    },
    "colab": {
      "name": "Run_models_on_new_images.ipynb",
      "provenance": [],
      "collapsed_sections": [],
      "toc_visible": true
    },
    "accelerator": "GPU"
  },
  "cells": [
    {
      "cell_type": "code",
      "metadata": {
        "collapsed": true,
        "scrolled": true,
        "id": "wzeh_sqLilob"
      },
      "source": [
        "import warnings\n",
        "warnings.filterwarnings('ignore')\n",
        "import numpy as np\n",
        "import os\n",
        "import tensorflow as tf\n",
        "from matplotlib import pyplot as plt\n",
        "from PIL import Image\n",
        "import glob as glob\n",
        "import sys"
      ],
      "execution_count": null,
      "outputs": []
    },
    {
      "cell_type": "code",
      "metadata": {
        "id": "VuzUTOyGi2dr"
      },
      "source": [
        "# faster rcnn inception v2\n",
        "!gdown https://drive.google.com/u/0/uc?id=1LRCSWIkX_i6ijScMfaxSte_5a_x9tjWF&export=download\n",
        "!unzip faster_rcnn_inception_v2.zip -d models/faster_rcnn_inception_v2"
      ],
      "execution_count": null,
      "outputs": []
    },
    {
      "cell_type": "code",
      "metadata": {
        "id": "AAmzyBqGloDr"
      },
      "source": [
        "# ssd_inception_v2\n",
        "!gdown https://drive.google.com/u/0/uc?id=1TKMd-wIZJ1aUcOhWburm2b6WgYnP0ZK6&export=download\n",
        "!unzip ssd_inception_v2.zip -d models/ssd_inception_v2"
      ],
      "execution_count": null,
      "outputs": []
    },
    {
      "cell_type": "code",
      "metadata": {
        "id": "oVRE0tXRmFVU"
      },
      "source": [
        "# ssd_mobilenet_v1\n",
        "!gdown https://drive.google.com/u/0/uc?id=1U31RhUvE1Urr5Q92AJynMvl-oFBVRxxg&export=download\n",
        "!unzip ssd_mobilenet_v1.zip -d models/ssd_mobilenet_v1"
      ],
      "execution_count": null,
      "outputs": []
    },
    {
      "cell_type": "code",
      "metadata": {
        "id": "e8-6h_I4mZ4Z"
      },
      "source": [
        "# faster_rcnn_resnet_101\n",
        "!gdown https://drive.google.com/u/0/uc?id=15OxyPlqyOOlUdsbUmdrexKLpHy1l5tP9&export=download\n",
        "!unzip faster_rcnn_resnet_101.zip -d models/faster_rcnn_resnet_101"
      ],
      "execution_count": null,
      "outputs": []
    },
    {
      "cell_type": "code",
      "metadata": {
        "collapsed": true,
        "id": "J4MJYz_yiloc"
      },
      "source": [
        "# MODEL_NAME = 'faster_rcnn_inception_resnet_v2_atrous'\n",
        "# MODEL_NAME = 'faster_rcnn_resnet_101'\n",
        "# MODEL_NAME = 'faster_rcnn_resnet50'\n",
        "MODEL_NAME = 'faster_rcnn_inception_v2'\n",
        "# MODEL_NAME = 'rfcn_resnet101'\n",
        "# MODEL_NAME = 'ssd_inception_v2'\n",
        "# MODEL_NAME = 'ssd_mobilenet_v1'\n",
        "\n",
        "MODEL_PATH = os.path.join('models', MODEL_NAME)\n",
        "PATH_TO_CKPT = os.path.join(MODEL_PATH,'inference_graph/frozen_inference_graph.pb')"
      ],
      "execution_count": null,
      "outputs": []
    },
    {
      "cell_type": "code",
      "metadata": {
        "collapsed": true,
        "id": "4W04hObvilod"
      },
      "source": [
        "detection_graph = tf.Graph()\n",
        "with detection_graph.as_default():\n",
        "    od_graph_def = tf.compat.v1.GraphDef()\n",
        "    with tf.compat.v2.io.gfile.GFile(PATH_TO_CKPT, 'rb') as fid:\n",
        "        serialized_graph = fid.read()\n",
        "        od_graph_def.ParseFromString(serialized_graph)\n",
        "        tf.import_graph_def(od_graph_def, name='')"
      ],
      "execution_count": null,
      "outputs": []
    },
    {
      "cell_type": "code",
      "metadata": {
        "collapsed": true,
        "id": "9w55GPjdilof"
      },
      "source": [
        "def load_image_into_numpy_array(image):\n",
        "    (im_width, im_height) = image.size\n",
        "    return np.array(image.getdata()).reshape((im_height, im_width, 3)).astype(np.uint8)"
      ],
      "execution_count": null,
      "outputs": []
    },
    {
      "cell_type": "code",
      "metadata": {
        "scrolled": true,
        "colab": {
          "base_uri": "https://localhost:8080/"
        },
        "id": "BBfPsXPWilog",
        "outputId": "4ea3d2d3-7a61-4e6c-dfaf-3007d9a8fc13"
      },
      "source": [
        "import time\n",
        "\n",
        "image_path = 'image.ppm'\n",
        "image = Image.open(image_path)\n",
        "\n",
        "with detection_graph.as_default():\n",
        "    with tf.compat.v1.Session(graph=detection_graph) as sess:\n",
        "\n",
        "        times = []\n",
        "        for i in range(5):\n",
        "            image_np = load_image_into_numpy_array(image)\n",
        "            image_np_expanded = np.expand_dims(image_np, axis=0)\n",
        "            image_tensor = detection_graph.get_tensor_by_name('image_tensor:0')\n",
        "            boxes = detection_graph.get_tensor_by_name('detection_boxes:0')\n",
        "            scores = detection_graph.get_tensor_by_name('detection_scores:0')\n",
        "            classes = detection_graph.get_tensor_by_name('detection_classes:0')\n",
        "            num_detections = detection_graph.get_tensor_by_name('num_detections:0')\n",
        "\n",
        "            start = time.time()\n",
        "            (boxes, scores, classes, num_detections) = sess.run(\n",
        "                [boxes, scores, classes, num_detections],\n",
        "                feed_dict={image_tensor: image_np_expanded})\n",
        "            end = time.time()\n",
        "            times.append(end - start)\n",
        "            \n",
        "        print(np.mean(times))"
      ],
      "execution_count": null,
      "outputs": [
        {
          "output_type": "stream",
          "text": [
            "1.1142212867736816\n"
          ],
          "name": "stdout"
        }
      ]
    }
  ]
}