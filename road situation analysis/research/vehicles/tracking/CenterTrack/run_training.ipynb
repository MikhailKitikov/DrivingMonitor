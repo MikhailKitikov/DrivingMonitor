{
  "nbformat": 4,
  "nbformat_minor": 0,
  "metadata": {
    "colab": {
      "name": "diploma-CenterTrack-training.ipynb",
      "provenance": [],
      "collapsed_sections": []
    },
    "kernelspec": {
      "name": "python3",
      "display_name": "Python 3"
    },
    "language_info": {
      "name": "python"
    },
    "accelerator": "GPU"
  },
  "cells": [
    {
      "cell_type": "markdown",
      "metadata": {
        "id": "J8MqN1Ytiwx5"
      },
      "source": [
        "### Prepare env:"
      ]
    },
    {
      "cell_type": "code",
      "metadata": {
        "id": "rLRxHTDMMq-_"
      },
      "source": [
        "%load_ext autoreload"
      ],
      "execution_count": null,
      "outputs": []
    },
    {
      "cell_type": "code",
      "metadata": {
        "id": "H2jgqPd2KvUh",
        "colab": {
          "base_uri": "https://localhost:8080/"
        },
        "outputId": "09f68180-141a-46bc-ce2d-d0632157f757"
      },
      "source": [
        "!git clone https://github.com/MikhailKitikov/CenterTrack.git"
      ],
      "execution_count": 1,
      "outputs": [
        {
          "output_type": "stream",
          "text": [
            "Cloning into 'CenterTrack'...\n",
            "remote: Enumerating objects: 329, done.\u001b[K\n",
            "remote: Counting objects: 100% (41/41), done.\u001b[K\n",
            "remote: Compressing objects: 100% (41/41), done.\u001b[K\n",
            "remote: Total 329 (delta 23), reused 0 (delta 0), pack-reused 288\u001b[K\n",
            "Receiving objects: 100% (329/329), 15.03 MiB | 28.34 MiB/s, done.\n",
            "Resolving deltas: 100% (138/138), done.\n"
          ],
          "name": "stdout"
        }
      ]
    },
    {
      "cell_type": "code",
      "metadata": {
        "id": "2XCo0E_rK2kz"
      },
      "source": [
        "!pip install torch==1.4 torchvision==0.5"
      ],
      "execution_count": null,
      "outputs": []
    },
    {
      "cell_type": "code",
      "metadata": {
        "id": "pzeKHiz4MJ8B",
        "colab": {
          "base_uri": "https://localhost:8080/"
        },
        "outputId": "682fa6a5-e1fb-44bd-f335-608ddbb86418"
      },
      "source": [
        "cd /content/CenterTrack/src/lib/model/networks"
      ],
      "execution_count": 4,
      "outputs": [
        {
          "output_type": "stream",
          "text": [
            "/content/CenterTrack/src/lib/model/networks\n"
          ],
          "name": "stdout"
        }
      ]
    },
    {
      "cell_type": "code",
      "metadata": {
        "id": "CjuCJNALMTMk",
        "colab": {
          "base_uri": "https://localhost:8080/"
        },
        "outputId": "f804c562-c1b2-4e08-8310-82a017aec7af"
      },
      "source": [
        "!git clone https://github.com/MatthewHowe/DCNv2.git"
      ],
      "execution_count": 5,
      "outputs": [
        {
          "output_type": "stream",
          "text": [
            "Cloning into 'DCNv2'...\n",
            "remote: Enumerating objects: 233, done.\u001b[K\n",
            "remote: Counting objects: 100% (12/12), done.\u001b[K\n",
            "remote: Compressing objects: 100% (11/11), done.\u001b[K\n",
            "remote: Total 233 (delta 3), reused 6 (delta 1), pack-reused 221\u001b[K\n",
            "Receiving objects: 100% (233/233), 1.42 MiB | 10.70 MiB/s, done.\n",
            "Resolving deltas: 100% (129/129), done.\n"
          ],
          "name": "stdout"
        }
      ]
    },
    {
      "cell_type": "code",
      "metadata": {
        "id": "sTb-nL4XM33h",
        "colab": {
          "base_uri": "https://localhost:8080/"
        },
        "outputId": "c176de8c-a4df-4ba0-fcc7-7e6d40ff650a"
      },
      "source": [
        "cd /content/CenterTrack/src/lib/model/networks/DCNv2"
      ],
      "execution_count": 6,
      "outputs": [
        {
          "output_type": "stream",
          "text": [
            "/content/CenterTrack/src/lib/model/networks/DCNv2\n"
          ],
          "name": "stdout"
        }
      ]
    },
    {
      "cell_type": "code",
      "metadata": {
        "id": "gy8FVAMcNFei"
      },
      "source": [
        "!./make.sh"
      ],
      "execution_count": null,
      "outputs": []
    },
    {
      "cell_type": "code",
      "metadata": {
        "id": "Yci-Pgt_N1ry",
        "colab": {
          "base_uri": "https://localhost:8080/"
        },
        "outputId": "c930de3a-194c-4bec-bde1-d14f6090bc28"
      },
      "source": [
        "cd /content/CenterTrack"
      ],
      "execution_count": 8,
      "outputs": [
        {
          "output_type": "stream",
          "text": [
            "/content/CenterTrack\n"
          ],
          "name": "stdout"
        }
      ]
    },
    {
      "cell_type": "code",
      "metadata": {
        "id": "qKeT-KYNN2WM"
      },
      "source": [
        "!pip install -r requirements.txt"
      ],
      "execution_count": null,
      "outputs": []
    },
    {
      "cell_type": "code",
      "metadata": {
        "id": "l6dNtWX8Nt3f",
        "colab": {
          "base_uri": "https://localhost:8080/"
        },
        "outputId": "5341600c-9d27-4a63-bf99-574d03dda0d8"
      },
      "source": [
        "cd /content/CenterTrack/models"
      ],
      "execution_count": 48,
      "outputs": [
        {
          "output_type": "stream",
          "text": [
            "/content/CenterTrack/models\n"
          ],
          "name": "stdout"
        }
      ]
    },
    {
      "cell_type": "code",
      "metadata": {
        "id": "QdKSJFKFNw0A",
        "colab": {
          "base_uri": "https://localhost:8080/"
        },
        "outputId": "4c827d80-d118-4bf0-e2e0-94b6b27d7961"
      },
      "source": [
        "# !gdown https://drive.google.com/u/0/uc?id=1tJCEJmdtYIh8VuN8CClGNws3YO7QGd40&export=download\n",
        "# !gdown https://drive.google.com/u/0/uc?id=1e8zR1m1QMJne-Tjp-2iY_o81hn2CiQRt&export=download\n",
        "!gdown https://drive.google.com/u/0/uc?id=1ZSG9swryMEfBJ104WH8CP7kcypCobFlU&export=download"
      ],
      "execution_count": 49,
      "outputs": [
        {
          "output_type": "stream",
          "text": [
            "Downloading...\n",
            "From: https://drive.google.com/u/0/uc?id=1ZSG9swryMEfBJ104WH8CP7kcypCobFlU\n",
            "To: /content/CenterTrack/models/nuScenes_3Ddetection_e140.pth\n",
            "81.2MB [00:00, 196MB/s]\n"
          ],
          "name": "stdout"
        }
      ]
    },
    {
      "cell_type": "code",
      "metadata": {
        "id": "ycXLP7EWPi84"
      },
      "source": [
        "cd /content/CenterTrack/samples/videos"
      ],
      "execution_count": null,
      "outputs": []
    },
    {
      "cell_type": "code",
      "metadata": {
        "id": "oHId4sKTPpm3"
      },
      "source": [
        "# !gdown https://drive.google.com/u/0/uc?id=1Ck0VWplkDLDsfxbkTwfWSYGweF_JiRRQ&export=download\n",
        "# !gdown https://drive.google.com/u/0/uc?id=1YLbehuOT6rm52rKwFaTUlmSpV93eoh5A&export=download\n",
        "# !gdown https://drive.google.com/u/0/uc?id=1naB3nOmVNYFD3DJIqPRR0X_l4cstW2TX&export=download\n",
        "# !gdown https://drive.google.com/u/0/uc?id=1loPJD_TrsGXWGF1EmjX46prE05XDAIxT&export=download\n",
        "# !gdown https://drive.google.com/u/0/uc?id=1pkUuv80aNaRJHVBC8sujWcTqZpLEbVT7&export=download"
      ],
      "execution_count": null,
      "outputs": []
    },
    {
      "cell_type": "code",
      "metadata": {
        "id": "fr2lXwRmNh9i",
        "colab": {
          "base_uri": "https://localhost:8080/"
        },
        "outputId": "a40e3193-b6d0-489a-ef0a-42064d04a25c"
      },
      "source": [
        "cd /content/CenterTrack/src"
      ],
      "execution_count": 12,
      "outputs": [
        {
          "output_type": "stream",
          "text": [
            "/content/CenterTrack/src\n"
          ],
          "name": "stdout"
        }
      ]
    },
    {
      "cell_type": "markdown",
      "metadata": {
        "id": "kqE5GAdHBaY_"
      },
      "source": [
        "### Prepare nuScenes dataset:"
      ]
    },
    {
      "cell_type": "code",
      "metadata": {
        "id": "_WBa2P0IBdyl"
      },
      "source": [
        "!pip install nuscenes-devkit"
      ],
      "execution_count": null,
      "outputs": []
    },
    {
      "cell_type": "code",
      "metadata": {
        "colab": {
          "base_uri": "https://localhost:8080/"
        },
        "id": "M-PUPvVXBe7h",
        "outputId": "5b5fa540-da7b-4d87-d3ed-497248f2ebc5"
      },
      "source": [
        "cd /content/CenterTrack"
      ],
      "execution_count": 21,
      "outputs": [
        {
          "output_type": "stream",
          "text": [
            "/content/CenterTrack\n"
          ],
          "name": "stdout"
        }
      ]
    },
    {
      "cell_type": "code",
      "metadata": {
        "id": "0_zm0V1gDGf5"
      },
      "source": [
        "mkdir data"
      ],
      "execution_count": 22,
      "outputs": []
    },
    {
      "cell_type": "code",
      "metadata": {
        "colab": {
          "base_uri": "https://localhost:8080/"
        },
        "id": "dITaj4cKDLUX",
        "outputId": "8bf85aef-fa53-4aae-80c5-ffdd6a05302e"
      },
      "source": [
        "cd data"
      ],
      "execution_count": 23,
      "outputs": [
        {
          "output_type": "stream",
          "text": [
            "/content/CenterTrack/data\n"
          ],
          "name": "stdout"
        }
      ]
    },
    {
      "cell_type": "code",
      "metadata": {
        "id": "cbiEd1ogDZv2"
      },
      "source": [
        "mkdir nuscenes"
      ],
      "execution_count": 24,
      "outputs": []
    },
    {
      "cell_type": "code",
      "metadata": {
        "id": "hbFNGNR6Deik"
      },
      "source": [
        "mkdir raw"
      ],
      "execution_count": 25,
      "outputs": []
    },
    {
      "cell_type": "code",
      "metadata": {
        "colab": {
          "base_uri": "https://localhost:8080/"
        },
        "id": "o1tu3-MJDa2I",
        "outputId": "dd08deac-5bfc-44d1-d0dd-bef1109135e5"
      },
      "source": [
        "cd raw"
      ],
      "execution_count": 26,
      "outputs": [
        {
          "output_type": "stream",
          "text": [
            "/content/CenterTrack/data/raw\n"
          ],
          "name": "stdout"
        }
      ]
    },
    {
      "cell_type": "code",
      "metadata": {
        "id": "4jEEjDRWDk-G"
      },
      "source": [
        "!wget https://www.nuscenes.org/data/v1.0-mini.tgz  # Download the nuScenes mini split."
      ],
      "execution_count": null,
      "outputs": []
    },
    {
      "cell_type": "code",
      "metadata": {
        "id": "WP0eBmu4DyV7"
      },
      "source": [
        "!tar -xf v1.0-mini.tgz  # Uncompress the nuScenes mini split."
      ],
      "execution_count": 37,
      "outputs": []
    },
    {
      "cell_type": "code",
      "metadata": {
        "id": "it4ZH4ZTKTiA"
      },
      "source": [
        "cp /content/CenterTrack/data/raw/v1.0-mini/* /content/CenterTrack/data/nuscenes/v1.0-mini/v1.0-mini_meta"
      ],
      "execution_count": 38,
      "outputs": []
    },
    {
      "cell_type": "code",
      "metadata": {
        "id": "5Sf0gq80OdFH"
      },
      "source": [
        "cp /content/CenterTrack/data/raw/v1.0-mini/* /content/CenterTrack/data/nuscenes/v1.0-mini/"
      ],
      "execution_count": 42,
      "outputs": []
    },
    {
      "cell_type": "code",
      "metadata": {
        "id": "dzcoLyKyTCpI"
      },
      "source": [
        "!cp /content/CenterTrack/data/nuscenes/annotations/mini.json /content/CenterTrack/data/nuscenes/annotations/train.json\n",
        "!cp /content/CenterTrack/data/nuscenes/annotations/mini.json /content/CenterTrack/data/nuscenes/annotations/val.json"
      ],
      "execution_count": 51,
      "outputs": []
    },
    {
      "cell_type": "code",
      "metadata": {
        "colab": {
          "base_uri": "https://localhost:8080/"
        },
        "id": "qhoctKQTM1KS",
        "outputId": "93db4e9f-11b4-4bc8-c116-6d270d360307"
      },
      "source": [
        "cd /content/CenterTrack/src/tools"
      ],
      "execution_count": 39,
      "outputs": [
        {
          "output_type": "stream",
          "text": [
            "/content/CenterTrack/src/tools\n"
          ],
          "name": "stdout"
        }
      ]
    },
    {
      "cell_type": "code",
      "metadata": {
        "colab": {
          "base_uri": "https://localhost:8080/"
        },
        "id": "raa50qOrM3Ce",
        "outputId": "bf2d4627-3280-47ff-9b4f-af6c9d9352f1"
      },
      "source": [
        "!python convert_nuScenes.py"
      ],
      "execution_count": 45,
      "outputs": [
        {
          "output_type": "stream",
          "text": [
            "======\n",
            "Loading NuScenes tables for version v1.0-mini...\n",
            "23 category,\n",
            "8 attribute,\n",
            "4 visibility,\n",
            "911 instance,\n",
            "12 sensor,\n",
            "120 calibrated_sensor,\n",
            "31206 ego_pose,\n",
            "8 log,\n",
            "10 scene,\n",
            "404 sample,\n",
            "31206 sample_data,\n",
            "18538 sample_annotation,\n",
            "4 map,\n",
            "Done loading in 0.471 seconds.\n",
            "======\n",
            "Reverse indexing ...\n",
            "Done reverse indexing in 0.1 seconds.\n",
            "======\n",
            "scene_name scene-0061\n",
            "scene_name scene-0103\n",
            "scene_name scene-0553\n",
            "scene_name scene-0655\n",
            "scene_name scene-0757\n",
            "scene_name scene-0796\n",
            "scene_name scene-0916\n",
            "scene_name scene-1077\n",
            "scene_name scene-1094\n",
            "scene_name scene-1100\n",
            "reordering images\n",
            "mini 2424 images 19604 boxes\n",
            "out_path ../../data/nuscenes/annotations/mini.json\n"
          ],
          "name": "stdout"
        }
      ]
    },
    {
      "cell_type": "markdown",
      "metadata": {
        "id": "7O4HBdMkQf8b"
      },
      "source": [
        "### Training:"
      ]
    },
    {
      "cell_type": "code",
      "metadata": {
        "colab": {
          "base_uri": "https://localhost:8080/"
        },
        "id": "sIDAh-V7Qfox",
        "outputId": "16b19706-3b56-4b25-aac3-74ecfb8530b7"
      },
      "source": [
        "cd /content/CenterTrack/src"
      ],
      "execution_count": 52,
      "outputs": [
        {
          "output_type": "stream",
          "text": [
            "/content/CenterTrack/src\n"
          ],
          "name": "stdout"
        }
      ]
    },
    {
      "cell_type": "code",
      "metadata": {
        "colab": {
          "base_uri": "https://localhost:8080/"
        },
        "id": "UA3E5OIdQhiI",
        "outputId": "a6d1600c-a6a2-4071-eda0-95f080c3ed27"
      },
      "source": [
        "!python main.py tracking,ddd --exp_id nuScenes_3Dtracking --dataset nuscenes --pre_hm --load_model ../models/nuScenes_3Ddetection_e140.pth --shift 0.01 --scale 0.05 --lost_disturb 0.4 --fp_disturb 0.1 --hm_disturb 0.05 --batch_size 2 --gpus 0 --lr 2.5e-4 --save_point 1"
      ],
      "execution_count": null,
      "outputs": [
        {
          "output_type": "stream",
          "text": [
            "Running tracking\n",
            "Using tracking threshold for out threshold! 0.3\n",
            "Fix size testing.\n",
            "training chunk_sizes: [2]\n",
            "input h w: 448 800\n",
            "heads {'hm': 10, 'reg': 2, 'wh': 2, 'tracking': 2, 'dep': 1, 'rot': 8, 'dim': 3, 'amodel_offset': 2}\n",
            "weights {'hm': 1, 'reg': 1, 'wh': 0.1, 'tracking': 1, 'dep': 1, 'rot': 1, 'dim': 1, 'amodel_offset': 1}\n",
            "head conv {'hm': [256], 'reg': [256], 'wh': [256], 'tracking': [256], 'dep': [256], 'rot': [256], 'dim': [256], 'amodel_offset': [256]}\n",
            "Namespace(K=100, add_05=False, amodel_offset_weight=1, arch='dla_34', aug_rot=0, backbone='dla34', batch_size=2, chunk_sizes=[2], custom_dataset_ann_path='', custom_dataset_img_path='', data_dir='/content/CenterTrack/src/lib/../../data', dataset='nuscenes', dataset_version='', debug=0, debug_dir='/content/CenterTrack/src/lib/../../exp/tracking,ddd/nuScenes_3Dtracking/debug', debugger_theme='white', demo='', dense_reg=1, dep_weight=1, depth_scale=1, dim_weight=1, dla_node='dcn', down_ratio=4, efficient_level=0, eval_val=False, exp_dir='/content/CenterTrack/src/lib/../../exp/tracking,ddd', exp_id='nuScenes_3Dtracking', fix_res=True, fix_short=-1, flip=0.5, flip_test=False, fp_disturb=0.1, gpus=[0], gpus_str='0', head_conv={'hm': [256], 'reg': [256], 'wh': [256], 'tracking': [256], 'dep': [256], 'rot': [256], 'dim': [256], 'amodel_offset': [256]}, head_kernel=3, heads={'hm': 10, 'reg': 2, 'wh': 2, 'tracking': 2, 'dep': 1, 'rot': 8, 'dim': 3, 'amodel_offset': 2}, hm_disturb=0.05, hm_hp_weight=1, hm_weight=1, hp_weight=1, hungarian=False, ignore_loaded_cats=[], input_h=448, input_res=800, input_w=800, keep_res=False, kitti_split='3dop', load_model='../models/nuScenes_3Ddetection_e140.pth', load_results='', lost_disturb=0.4, lr=0.00025, lr_step=[60], ltrb=False, ltrb_amodal=False, ltrb_amodal_weight=0.1, ltrb_weight=0.1, map_argoverse_id=False, master_batch_size=2, max_age=-1, max_frame_dist=3, model_output_list=False, msra_outchannel=256, neck='dlaup', new_thresh=0.3, nms=False, no_color_aug=False, no_pause=False, no_pre_img=False, non_block_test=False, not_cuda_benchmark=False, not_idaup=False, not_max_crop=False, not_prefetch_test=False, not_rand_crop=False, not_set_cuda_env=False, not_show_bbox=False, not_show_number=False, not_show_txt=False, num_classes=10, num_epochs=70, num_head_conv=1, num_iters=-1, num_layers=101, num_stacks=1, num_workers=4, nuscenes_att=False, nuscenes_att_weight=1, off_weight=1, only_show_dots=False, optim='adam', out_thresh=0.3, output_h=112, output_res=200, output_w=200, pad=31, pre_hm=True, pre_img=True, pre_thresh=0.3, print_iter=0, prior_bias=-4.6, public_det=False, qualitative=False, reg_loss='l1', reset_hm=False, resize_video=False, resume=False, reuse_hm=False, root_dir='/content/CenterTrack/src/lib/../..', rot_weight=1, rotate=0, same_aug_pre=False, save_all=False, save_dir='/content/CenterTrack/src/lib/../../exp/tracking,ddd/nuScenes_3Dtracking', save_framerate=30, save_img_suffix='', save_imgs=[], save_point=[1], save_results=False, save_video=False, scale=0.05, seed=317, shift=0.01, show_trace=False, show_track_color=True, skip_first=-1, tango_color=False, task='tracking,ddd', test=False, test_dataset='nuscenes', test_focal_length=-1, test_scales=[1.0], track_thresh=0.3, tracking=True, tracking_weight=1, trainval=False, transpose_video=False, use_kpt_center=False, use_loaded_results=False, val_intervals=10000, velocity=False, velocity_weight=1, video_h=512, video_w=512, vis_gt_bev='', vis_thresh=0.3, weights={'hm': 1, 'reg': 1, 'wh': 0.1, 'tracking': 1, 'dep': 1, 'rot': 1, 'dim': 1, 'amodel_offset': 1}, wh_weight=0.1, zero_pre_hm=False, zero_tracking=False)\n",
            "Creating model...\n",
            "Using node type: (<class 'model.networks.dla.DeformConv'>, <class 'model.networks.dla.DeformConv'>)\n",
            "Warning: No ImageNet pretrain!!\n",
            "loaded ../models/nuScenes_3Ddetection_e140.pth, epoch 140\n",
            "No param tracking.0.weight.\n",
            "No param tracking.0.bias.\n",
            "No param tracking.2.weight.\n",
            "No param tracking.2.bias.\n",
            "No param base.pre_img_layer.0.weight.\n",
            "No param base.pre_img_layer.1.weight.\n",
            "No param base.pre_img_layer.1.bias.\n",
            "No param base.pre_img_layer.1.running_mean.\n",
            "No param base.pre_img_layer.1.running_var.\n",
            "No param base.pre_img_layer.1.num_batches_tracked.\n",
            "No param base.pre_hm_layer.0.weight.\n",
            "No param base.pre_hm_layer.1.weight.\n",
            "No param base.pre_hm_layer.1.bias.\n",
            "No param base.pre_hm_layer.1.running_mean.\n",
            "No param base.pre_hm_layer.1.running_var.\n",
            "No param base.pre_hm_layer.1.num_batches_tracked.\n",
            "Setting up train data...\n",
            "version \n",
            "Dataset version \n",
            "==> initializing train data from /content/CenterTrack/src/lib/../../data/nuscenes/annotations/mini.json, \n",
            " images from /content/CenterTrack/src/lib/../../data/nuscenes/v1.0-mini ...\n",
            "loading annotations into memory...\n",
            "Done (t=0.31s)\n",
            "creating index...\n",
            "index created!\n",
            "Creating video index!\n",
            "Loaded train 2424 samples\n",
            "Starting training...\n",
            "\u001b[?25ltracking,ddd/nuScenes_3Dtracking/usr/local/lib/python3.7/dist-packages/torch/nn/_reduction.py:13: UserWarning: reduction='elementwise_mean' is deprecated, please use reduction='mean' instead.\n",
            "  warnings.warn(\"reduction='elementwise_mean' is deprecated, please use reduction='mean' instead.\")\n",
            "\u001b[Ktracking,ddd/nuScenes_3Dtracking |################################| train: [1][1211/1212]|Tot: 0:08:49 |ETA: 0:00:01 |tot 23.0737 |hm 2.1881 |wh 4.7806 |reg 0.2340 |dep 5.7517 |dim 0.5024 |rot 1.8860 |amodel_offset 2.9863 |tracking 9.0472 |Data 0.001s(0.002s) |Net 0.437s\n",
            "\u001b[Ktracking,ddd/nuScenes_3Dtracking |################################| train: [2][1211/1212]|Tot: 0:08:46 |ETA: 0:00:01 |tot 21.0688 |hm 1.8515 |wh 3.7668 |reg 0.2340 |dep 4.4469 |dim 0.4175 |rot 1.8374 |amodel_offset 2.4443 |tracking 9.4604 |Data 0.001s(0.002s) |Net 0.434s\n",
            "\u001b[Ktracking,ddd/nuScenes_3Dtracking |################################| train: [3][1211/1212]|Tot: 0:08:45 |ETA: 0:00:01 |tot 20.3253 |hm 1.7786 |wh 3.4655 |reg 0.2320 |dep 4.1146 |dim 0.3638 |rot 1.8085 |amodel_offset 2.4086 |tracking 9.2727 |Data 0.001s(0.002s) |Net 0.434s\n",
            "\u001b[Ktracking,ddd/nuScenes_3Dtracking |################################| train: [4][1211/1212]|Tot: 0:08:45 |ETA: 0:00:01 |tot 20.4182 |hm 1.7833 |wh 3.6558 |reg 0.2267 |dep 3.9586 |dim 0.3569 |rot 1.7950 |amodel_offset 2.7108 |tracking 9.2214 |Data 0.001s(0.002s) |Net 0.434s\n",
            "\u001b[Ktracking,ddd/nuScenes_3Dtracking |################################| train: [5][1211/1212]|Tot: 0:08:46 |ETA: 0:00:01 |tot 19.6123 |hm 1.6902 |wh 3.2676 |reg 0.2281 |dep 3.8539 |dim 0.3476 |rot 1.7796 |amodel_offset 2.2896 |tracking 9.0965 |Data 0.001s(0.002s) |Net 0.434s\n",
            "\u001b[Ktracking,ddd/nuScenes_3Dtracking |################################| train: [6][1211/1212]|Tot: 0:08:45 |ETA: 0:00:01 |tot 19.8474 |hm 1.6635 |wh 3.3158 |reg 0.2271 |dep 3.6947 |dim 0.3412 |rot 1.7691 |amodel_offset 2.3428 |tracking 9.4772 |Data 0.001s(0.002s) |Net 0.434s\n",
            "\u001b[Ktracking,ddd/nuScenes_3Dtracking |################################| train: [7][1211/1212]|Tot: 0:08:45 |ETA: 0:00:01 |tot 18.9963 |hm 1.6100 |wh 3.2937 |reg 0.2283 |dep 3.5820 |dim 0.3246 |rot 1.7594 |amodel_offset 2.2065 |tracking 8.9562 |Data 0.002s(0.002s) |Net 0.434s\n",
            "\u001b[Ktracking,ddd/nuScenes_3Dtracking |################################| train: [8][1211/1212]|Tot: 0:08:45 |ETA: 0:00:01 |tot 18.9674 |hm 1.6369 |wh 3.3328 |reg 0.2264 |dep 3.4971 |dim 0.3303 |rot 1.7599 |amodel_offset 2.2014 |tracking 8.9820 |Data 0.002s(0.002s) |Net 0.434s\n",
            "\u001b[Ktracking,ddd/nuScenes_3Dtracking |################################| train: [9][1211/1212]|Tot: 0:08:45 |ETA: 0:00:01 |tot 19.1316 |hm 1.5555 |wh 3.1320 |reg 0.2261 |dep 3.3728 |dim 0.2996 |rot 1.7402 |amodel_offset 2.1278 |tracking 9.4964 |Data 0.001s(0.002s) |Net 0.433s\n",
            "\u001b[Ktracking,ddd/nuScenes_3Dtracking |################################| train: [10][1211/1212]|Tot: 0:08:45 |ETA: 0:00:01 |tot 18.8916 |hm 1.5589 |wh 2.9643 |reg 0.2267 |dep 3.4811 |dim 0.3032 |rot 1.7452 |amodel_offset 2.0128 |tracking 9.2672 |Data 0.002s(0.002s) |Net 0.433s\n",
            "\u001b[Ktracking,ddd/nuScenes_3Dtracking |################################| train: [11][1211/1212]|Tot: 0:08:45 |ETA: 0:00:01 |tot 19.5028 |hm 1.6052 |wh 3.2033 |reg 0.2288 |dep 3.4937 |dim 0.3124 |rot 1.7545 |amodel_offset 2.2791 |tracking 9.5089 |Data 0.001s(0.002s) |Net 0.433s\n",
            "\u001b[Ktracking,ddd/nuScenes_3Dtracking |################################| train: [12][1211/1212]|Tot: 0:08:44 |ETA: 0:00:01 |tot 19.7528 |hm 1.6838 |wh 3.3368 |reg 0.2277 |dep 3.6501 |dim 0.3211 |rot 1.7629 |amodel_offset 2.4385 |tracking 9.3351 |Data 0.002s(0.002s) |Net 0.433s\n",
            "\u001b[Ktracking,ddd/nuScenes_3Dtracking |################################| train: [13][1211/1212]|Tot: 0:08:45 |ETA: 0:00:01 |tot 19.1397 |hm 1.5933 |wh 3.1773 |reg 0.2260 |dep 3.3221 |dim 0.3018 |rot 1.7504 |amodel_offset 2.0591 |tracking 9.5692 |Data 0.001s(0.002s) |Net 0.433s\n",
            "\u001b[Ktracking,ddd/nuScenes_3Dtracking |################################| train: [14][1211/1212]|Tot: 0:08:45 |ETA: 0:00:01 |tot 18.9126 |hm 1.5839 |wh 3.1946 |reg 0.2277 |dep 3.3432 |dim 0.3080 |rot 1.7410 |amodel_offset 2.1718 |tracking 9.2176 |Data 0.002s(0.002s) |Net 0.433s\n",
            "\u001b[Ktracking,ddd/nuScenes_3Dtracking |################################| train: [15][1211/1212]|Tot: 0:08:45 |ETA: 0:00:01 |tot 18.3053 |hm 1.5541 |wh 3.2691 |reg 0.2276 |dep 3.3012 |dim 0.3027 |rot 1.7483 |amodel_offset 2.1454 |tracking 8.6990 |Data 0.001s(0.002s) |Net 0.433s\n",
            "\u001b[Ktracking,ddd/nuScenes_3Dtracking |#####                           | train: [16][199/1212]|Tot: 0:01:27 |ETA: 0:07:18 |tot 18.0678 |hm 1.4618 |wh 2.9255 |reg 0.2180 |dep 2.6753 |dim 0.2565 |rot 1.7060 |amodel_offset 1.8738 |tracking 9.5838 |Data 0.001s(0.006s) |Net 0.437s"
          ],
          "name": "stdout"
        }
      ]
    },
    {
      "cell_type": "markdown",
      "metadata": {
        "id": "AKU4HysviyVJ"
      },
      "source": [
        "### Run tracking & detection:"
      ]
    },
    {
      "cell_type": "code",
      "metadata": {
        "id": "POiN0gG2NoKF"
      },
      "source": [
        "!python demo.py tracking,ddd --demo /content/CenterTrack/samples/videos/road_car_view.mp4 --save_video --resize_video --load_model /content/CenterTrack/models/nuScenes_3Dtracking.pth"
      ],
      "execution_count": null,
      "outputs": []
    }
  ]
}