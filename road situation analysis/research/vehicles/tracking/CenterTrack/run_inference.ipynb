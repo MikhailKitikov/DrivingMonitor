{
  "nbformat": 4,
  "nbformat_minor": 0,
  "metadata": {
    "colab": {
      "name": "diploma-CenterTrack-inference.ipynb",
      "provenance": [],
      "collapsed_sections": []
    },
    "kernelspec": {
      "name": "python3",
      "display_name": "Python 3"
    },
    "language_info": {
      "name": "python"
    },
    "accelerator": "GPU"
  },
  "cells": [
    {
      "cell_type": "markdown",
      "metadata": {
        "id": "J8MqN1Ytiwx5"
      },
      "source": [
        "### Prepare env:"
      ]
    },
    {
      "cell_type": "code",
      "metadata": {
        "id": "rLRxHTDMMq-_",
        "colab": {
          "base_uri": "https://localhost:8080/"
        },
        "outputId": "8475a315-5da0-430f-8d15-e1e3db8e0a0e"
      },
      "source": [
        "%load_ext autoreload"
      ],
      "execution_count": 49,
      "outputs": [
        {
          "output_type": "stream",
          "text": [
            "The autoreload extension is already loaded. To reload it, use:\n",
            "  %reload_ext autoreload\n"
          ],
          "name": "stdout"
        }
      ]
    },
    {
      "cell_type": "code",
      "metadata": {
        "id": "H2jgqPd2KvUh"
      },
      "source": [
        "!git clone https://github.com/MikhailKitikov/CenterTrack.git"
      ],
      "execution_count": null,
      "outputs": []
    },
    {
      "cell_type": "code",
      "metadata": {
        "id": "2XCo0E_rK2kz"
      },
      "source": [
        "!pip install torch==1.4 torchvision==0.5"
      ],
      "execution_count": null,
      "outputs": []
    },
    {
      "cell_type": "code",
      "metadata": {
        "id": "pzeKHiz4MJ8B",
        "colab": {
          "base_uri": "https://localhost:8080/"
        },
        "outputId": "3fdfbcd2-0440-4d5a-c29f-1173a1b31007"
      },
      "source": [
        "cd /content/CenterTrack/src/lib/model/networks"
      ],
      "execution_count": 4,
      "outputs": [
        {
          "output_type": "stream",
          "text": [
            "/content/CenterTrack/src/lib/model/networks\n"
          ],
          "name": "stdout"
        }
      ]
    },
    {
      "cell_type": "code",
      "metadata": {
        "id": "CjuCJNALMTMk"
      },
      "source": [
        "!git clone https://github.com/MatthewHowe/DCNv2.git"
      ],
      "execution_count": null,
      "outputs": []
    },
    {
      "cell_type": "code",
      "metadata": {
        "id": "sTb-nL4XM33h",
        "colab": {
          "base_uri": "https://localhost:8080/"
        },
        "outputId": "a9dd28f5-0637-4e20-d7b0-c122b21d9eca"
      },
      "source": [
        "cd /content/CenterTrack/src/lib/model/networks/DCNv2"
      ],
      "execution_count": 6,
      "outputs": [
        {
          "output_type": "stream",
          "text": [
            "/content/CenterTrack/src/lib/model/networks/DCNv2\n"
          ],
          "name": "stdout"
        }
      ]
    },
    {
      "cell_type": "code",
      "metadata": {
        "id": "gy8FVAMcNFei"
      },
      "source": [
        "!./make.sh"
      ],
      "execution_count": null,
      "outputs": []
    },
    {
      "cell_type": "code",
      "metadata": {
        "id": "Yci-Pgt_N1ry",
        "colab": {
          "base_uri": "https://localhost:8080/"
        },
        "outputId": "7b4e893e-e980-4e0d-d61b-6c4b1c9f4b29"
      },
      "source": [
        "cd /content/CenterTrack"
      ],
      "execution_count": 8,
      "outputs": [
        {
          "output_type": "stream",
          "text": [
            "/content/CenterTrack\n"
          ],
          "name": "stdout"
        }
      ]
    },
    {
      "cell_type": "code",
      "metadata": {
        "id": "qKeT-KYNN2WM",
        "colab": {
          "base_uri": "https://localhost:8080/"
        },
        "outputId": "34ce9999-5abb-4545-b78a-2647f1955368"
      },
      "source": [
        "!pip install -r requirements.txt"
      ],
      "execution_count": 9,
      "outputs": [
        {
          "output_type": "stream",
          "text": [
            "      Successfully uninstalled scikit-learn-0.22.2.post1\n",
            "Successfully installed fire-0.4.0 flake8-3.9.2 flake8-import-order-0.18.1 mccabe-0.6.1 motmetrics-1.2.0 nuscenes-devkit-1.1.5 progress-1.5 py-cpuinfo-8.0.0 pycodestyle-2.7.0 pyflakes-2.3.1 pyquaternion-0.9.9 pytest-benchmark-3.4.1 scikit-learn-0.22.2 xmltodict-0.12.0\n"
          ],
          "name": "stdout"
        }
      ]
    },
    {
      "cell_type": "code",
      "metadata": {
        "id": "eUYJ1Blqux6O"
      },
      "source": [
        "!mkdir /content/CenterTrack/samples\n",
        "!mkdir /content/CenterTrack/samples/videos\n",
        "!mkdir /content/CenterTrack/samples/images\n",
        "!mkdir /content/CenterTrack/models"
      ],
      "execution_count": null,
      "outputs": []
    },
    {
      "cell_type": "code",
      "metadata": {
        "id": "l6dNtWX8Nt3f",
        "colab": {
          "base_uri": "https://localhost:8080/"
        },
        "outputId": "41ba6772-c4c6-4dd0-8228-fe02b0744c64"
      },
      "source": [
        "cd /content/CenterTrack/models"
      ],
      "execution_count": 30,
      "outputs": [
        {
          "output_type": "stream",
          "text": [
            "/content/CenterTrack/models\n"
          ],
          "name": "stdout"
        }
      ]
    },
    {
      "cell_type": "code",
      "metadata": {
        "id": "QdKSJFKFNw0A"
      },
      "source": [
        "!gdown https://drive.google.com/u/0/uc?id=1tJCEJmdtYIh8VuN8CClGNws3YO7QGd40&export=download\n",
        "!gdown https://drive.google.com/u/0/uc?id=1e8zR1m1QMJne-Tjp-2iY_o81hn2CiQRt&export=download"
      ],
      "execution_count": null,
      "outputs": []
    },
    {
      "cell_type": "code",
      "metadata": {
        "id": "ycXLP7EWPi84",
        "colab": {
          "base_uri": "https://localhost:8080/"
        },
        "outputId": "857119ec-cf69-4a4e-9532-78d14a2a48db"
      },
      "source": [
        "cd /content/CenterTrack/samples/videos"
      ],
      "execution_count": 75,
      "outputs": [
        {
          "output_type": "stream",
          "text": [
            "/content/CenterTrack/samples/videos\n"
          ],
          "name": "stdout"
        }
      ]
    },
    {
      "cell_type": "code",
      "metadata": {
        "id": "oHId4sKTPpm3"
      },
      "source": [
        "!gdown https://drive.google.com/u/0/uc?id=1Ck0VWplkDLDsfxbkTwfWSYGweF_JiRRQ&export=download\n",
        "!gdown https://drive.google.com/u/0/uc?id=1YLbehuOT6rm52rKwFaTUlmSpV93eoh5A&export=download\n",
        "!gdown https://drive.google.com/u/0/uc?id=1naB3nOmVNYFD3DJIqPRR0X_l4cstW2TX&export=download\n",
        "!gdown https://drive.google.com/u/0/uc?id=1loPJD_TrsGXWGF1EmjX46prE05XDAIxT&export=download\n",
        "!gdown https://drive.google.com/u/0/uc?id=1pkUuv80aNaRJHVBC8sujWcTqZpLEbVT7&export=download"
      ],
      "execution_count": null,
      "outputs": []
    },
    {
      "cell_type": "markdown",
      "metadata": {
        "id": "AKU4HysviyVJ"
      },
      "source": [
        "### Run tracking & detection:"
      ]
    },
    {
      "cell_type": "code",
      "metadata": {
        "id": "fr2lXwRmNh9i",
        "colab": {
          "base_uri": "https://localhost:8080/"
        },
        "outputId": "64f48a92-d509-46e7-e3e2-4900565b177a"
      },
      "source": [
        "cd /content/CenterTrack/src"
      ],
      "execution_count": 78,
      "outputs": [
        {
          "output_type": "stream",
          "text": [
            "/content/CenterTrack/src\n"
          ],
          "name": "stdout"
        }
      ]
    },
    {
      "cell_type": "code",
      "metadata": {
        "id": "POiN0gG2NoKF"
      },
      "source": [
        "!python demo.py tracking,ddd --demo /content/CenterTrack/samples/videos/germany.mp4 --save_video --resize_video --dataset nuscenes --load_model /content/CenterTrack/models/nuScenes_3Dtracking.pth"
      ],
      "execution_count": null,
      "outputs": []
    },
    {
      "cell_type": "markdown",
      "metadata": {
        "id": "IImSBQ3juoUU"
      },
      "source": [
        "### Embed into project:"
      ]
    },
    {
      "cell_type": "code",
      "metadata": {
        "colab": {
          "base_uri": "https://localhost:8080/"
        },
        "id": "pHj0xCtluqDJ",
        "outputId": "27b7bbdc-b533-48b4-b1a6-073f0d63a455"
      },
      "source": [
        "cd /content/CenterTrack/"
      ],
      "execution_count": 81,
      "outputs": [
        {
          "output_type": "stream",
          "text": [
            "/content/CenterTrack\n"
          ],
          "name": "stdout"
        }
      ]
    },
    {
      "cell_type": "code",
      "metadata": {
        "colab": {
          "base_uri": "https://localhost:8080/"
        },
        "id": "8Db0VxA_4zOc",
        "outputId": "046d3365-c0f4-4956-fc03-97b8567322ec"
      },
      "source": [
        "!python src/run_embed.py"
      ],
      "execution_count": 118,
      "outputs": [
        {
          "output_type": "stream",
          "text": [
            "/usr/local/lib/python3.7/dist-packages/sklearn/utils/linear_assignment_.py:22: FutureWarning: The linear_assignment_ module is deprecated in 0.21 and will be removed from 0.23. Use scipy.optimize.linear_sum_assignment instead.\n",
            "  FutureWarning)\n",
            "args:: ['tracking,ddd', '--load_model', '/content/CenterTrack/models/nuScenes_3Dtracking.pth']\n",
            "args: ['tracking,ddd', '--load_model', '/content/CenterTrack/models/nuScenes_3Dtracking.pth']\n",
            "Running tracking\n",
            "Using tracking threshold for out threshold! 0.3\n",
            "Fix size testing.\n",
            "training chunk_sizes: [32]\n",
            "input h w: 448 800\n",
            "heads {'hm': 10, 'reg': 2, 'wh': 2, 'tracking': 2, 'dep': 1, 'rot': 8, 'dim': 3, 'amodel_offset': 2}\n",
            "weights {'hm': 1, 'reg': 1, 'wh': 0.1, 'tracking': 1, 'dep': 1, 'rot': 1, 'dim': 1, 'amodel_offset': 1}\n",
            "head conv {'hm': [256], 'reg': [256], 'wh': [256], 'tracking': [256], 'dep': [256], 'rot': [256], 'dim': [256], 'amodel_offset': [256]}\n",
            "Creating model...\n",
            "Using node type: (<class 'model.networks.dla.DeformConv'>, <class 'model.networks.dla.DeformConv'>)\n",
            "Warning: No ImageNet pretrain!!\n",
            "loaded /content/CenterTrack/models/nuScenes_3Dtracking.pth, epoch 70\n",
            "Drop parameter base.pre_hm_layer.0.weight.\n",
            "Drop parameter base.pre_hm_layer.1.weight.\n",
            "Drop parameter base.pre_hm_layer.1.bias.\n",
            "Drop parameter base.pre_hm_layer.1.running_mean.\n",
            "Drop parameter base.pre_hm_layer.1.running_var.\n",
            "Drop parameter base.pre_hm_layer.1.num_batches_tracked.\n",
            "Initialize tracking!\n",
            "\n",
            "Results:\n",
            "{'score': 0.81626153, 'class': 1, 'ct': [679.3880615234375, 276.6296081542969], 'tracking': array([11.3116455,  5.2447205], dtype=float32), 'bbox': array([600.4161 , 237.01767, 779.2231 , 321.36478], dtype=float32), 'dep': array([13.33845], dtype=float32), 'dim': array([1.4823201, 1.8544066, 4.5448303], dtype=float32), 'alpha': -2.0222926139831543, 'loc': array([ 3.1055033,  1.3150425, 13.33845  ], dtype=float32), 'rot_y': -1.793544353643774, 'tracking_id': 1, 'age': 1, 'active': 1}\n",
            "{'score': 0.6632997, 'class': 1, 'ct': [83.36782836914062, 278.7391662597656], 'tracking': array([-1.8500671,  2.9761047], dtype=float32), 'bbox': array([  6.578766, 234.53781 , 148.90671 , 324.5474  ], dtype=float32), 'dep': array([16.341942], dtype=float32), 'dim': array([1.9975903, 1.9493771, 4.661115 ], dtype=float32), 'alpha': 2.0167202949523926, 'loc': array([-4.3119874,  1.7306303, 16.341942 ], dtype=float32), 'rot_y': 1.7587399276802278, 'tracking_id': 2, 'age': 1, 'active': 1}\n",
            "{'score': 0.6436345, 'class': 1, 'ct': [594.9970092773438, 261.8457946777344], 'tracking': array([10.8880005,  2.4558716], dtype=float32), 'bbox': array([547.71344, 230.41093, 648.23676, 294.26294], dtype=float32), 'dep': array([19.983711], dtype=float32), 'dim': array([1.7986608, 1.9173529, 4.6779065], dtype=float32), 'alpha': -1.8127762079238892, 'loc': array([ 3.247303,  1.512927, 19.983711], dtype=float32), 'rot_y': -1.651686731537797, 'tracking_id': 3, 'age': 1, 'active': 1}\n",
            "{'score': 0.5947805, 'class': 1, 'ct': [554.6503295898438, 258.32342529296875], 'tracking': array([12.439636 ,  1.7470398], dtype=float32), 'bbox': array([519.0915 , 235.70279, 590.0069 , 280.6672 ], dtype=float32), 'dep': array([25.81278], dtype=float32), 'dim': array([1.6787909, 1.8684626, 4.5729055], dtype=float32), 'alpha': -1.7686810493469238, 'loc': array([ 3.3266292,  1.5562041, 25.81278  ], dtype=float32), 'rot_y': -1.6405122372784404, 'tracking_id': 4, 'age': 1, 'active': 1}\n",
            "{'score': 0.5702653, 'class': 1, 'ct': [167.9208984375, 271.9649353027344], 'tracking': array([-1.4097443,  1.5219116], dtype=float32), 'bbox': array([108.0702 , 239.29233, 215.57538, 303.61453], dtype=float32), 'dep': array([20.740355], dtype=float32), 'dim': array([1.9354712, 1.9565997, 4.5901976], dtype=float32), 'alpha': 1.9202120304107666, 'loc': array([-4.0111685,  1.7794604, 20.740355 ], dtype=float32), 'rot_y': 1.7291713255633616, 'tracking_id': 5, 'age': 1, 'active': 1}\n",
            "{'score': 0.5559909, 'class': 1, 'ct': [214.5565643310547, 270.5550842285156], 'tracking': array([6.2175293, 0.6452637], dtype=float32), 'bbox': array([169.35373, 248.61385, 250.88339, 292.15402], dtype=float32), 'dep': array([25.97632], dtype=float32), 'dim': array([1.6050206, 1.8833959, 4.4592767], dtype=float32), 'alpha': 1.952059030532837, 'loc': array([-4.0142817,  1.7886382, 25.97632  ], dtype=float32), 'rot_y': 1.7987356843354998, 'tracking_id': 6, 'age': 1, 'active': 1}\n",
            "{'score': 0.5539236, 'class': 1, 'ct': [531.306640625, 254.9486846923828], 'tracking': array([14.475403 ,  2.9468842], dtype=float32), 'bbox': array([504.26465, 233.52066, 556.9165 , 270.89508], dtype=float32), 'dep': array([33.226254], dtype=float32), 'dim': array([1.8233744, 1.9290812, 4.6777325], dtype=float32), 'alpha': -1.7214086055755615, 'loc': array([ 3.635691 ,  1.7409222, 33.226254 ], dtype=float32), 'rot_y': -1.6124200062824623, 'tracking_id': 7, 'age': 1, 'active': 1}\n",
            "{'score': 0.54368275, 'class': 1, 'ct': [511.5122985839844, 253.87722778320312], 'tracking': array([11.90979  ,  2.1751099], dtype=float32), 'bbox': array([490.73788, 236.83891, 530.00684, 266.1888 ], dtype=float32), 'dep': array([41.18579], dtype=float32), 'dim': array([1.7847933, 1.9136028, 4.6547527], dtype=float32), 'alpha': -1.6863034963607788, 'loc': array([ 3.8272688,  1.8835067, 41.18579  ], dtype=float32), 'rot_y': -1.5936426908361014, 'tracking_id': 8, 'age': 1, 'active': 1}\n",
            "{'score': 0.51613516, 'class': 1, 'ct': [441.2417297363281, 252.1012725830078], 'tracking': array([9.986908 , 1.3232422], dtype=float32), 'bbox': array([425.03815, 239.63588, 452.58167, 261.511  ], dtype=float32), 'dep': array([50.264572], dtype=float32), 'dim': array([1.6834068, 1.9100039, 4.577187 ], dtype=float32), 'alpha': -1.6425657272338867, 'loc': array([ 1.7274984,  1.9768987, 50.264572 ], dtype=float32), 'rot_y': -1.608211141028656, 'tracking_id': 9, 'age': 1, 'active': 1}\n",
            "{'score': 0.4350178, 'class': 1, 'ct': [330.8927307128906, 255.3828582763672], 'tracking': array([8.058563 , 1.9234924], dtype=float32), 'bbox': array([314.82898, 244.83469, 343.57037, 263.59964], dtype=float32), 'dep': array([57.027214], dtype=float32), 'dim': array([1.6371534, 1.903878 , 4.5169406], dtype=float32), 'alpha': -1.4459259510040283, 'loc': array([-3.2841618,  2.2624512, 57.027214 ], dtype=float32), 'rot_y': -1.5034518026666879, 'tracking_id': 10, 'age': 1, 'active': 1}\n",
            "{'score': 0.41428816, 'class': 1, 'ct': [492.4804992675781, 252.27110290527344], 'tracking': array([9.469269 , 1.4485168], dtype=float32), 'bbox': array([476.46753, 240.89818, 504.52142, 260.4979 ], dtype=float32), 'dep': array([52.670795], dtype=float32), 'dim': array([1.5761098, 1.8585408, 4.510558 ], dtype=float32), 'alpha': -1.6890045404434204, 'loc': array([ 4.0591846,  1.9850471, 52.670795 ], dtype=float32), 'rot_y': -1.6120894920441322, 'tracking_id': 11, 'age': 1, 'active': 1}\n",
            "{'score': 0.41361278, 'class': 1, 'ct': [480.0758056640625, 251.56820678710938], 'tracking': array([7.935669, 2.111679], dtype=float32), 'bbox': array([466.8853 , 238.78625, 489.544  , 257.78607], dtype=float32), 'dep': array([63.32653], dtype=float32), 'dim': array([1.8519056, 1.9672201, 4.6838136], dtype=float32), 'alpha': -1.6560497283935547, 'loc': array([ 4.22577  ,  2.3280125, 63.32653  ], dtype=float32), 'rot_y': -1.5894186730141966, 'tracking_id': 12, 'age': 1, 'active': 1}\n",
            "{'score': 0.38789895, 'class': 1, 'ct': [376.8219299316406, 247.6324920654297], 'tracking': array([ 9.538788  , -0.11296082], dtype=float32), 'bbox': array([363.03543, 236.20967, 385.5989 , 256.19415], dtype=float32), 'dep': array([75.63976], dtype=float32), 'dim': array([2.327604 , 2.2521722, 5.532659 ], dtype=float32), 'alpha': -1.5681004524230957, 'loc': array([-1.4609864,  2.5903988, 75.63976  ], dtype=float32), 'rot_y': -1.5874131093851043, 'tracking_id': 13, 'age': 1, 'active': 1}\n",
            "{'score': 0.31867853, 'class': 1, 'ct': [233.49696350097656, 266.0480041503906], 'tracking': array([7.5760956, 1.0049744], dtype=float32), 'bbox': array([194.19846, 248.73372, 266.34354, 278.84705], dtype=float32), 'dep': array([36.54122], dtype=float32), 'dim': array([1.6036018, 1.9103796, 4.5386724], dtype=float32), 'alpha': -0.7576597929000854, 'loc': array([-5.070186 ,  2.0517545, 36.54122  ], dtype=float32), 'rot_y': -0.8955320361915368, 'tracking_id': 14, 'age': 1, 'active': 1}\n"
          ],
          "name": "stdout"
        }
      ]
    }
  ]
}